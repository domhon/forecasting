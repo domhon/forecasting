{
 "cells": [
  {
   "cell_type": "code",
   "execution_count": 262,
   "id": "1a8a78de",
   "metadata": {},
   "outputs": [],
   "source": [
    "import pandas as pd\n",
    "import numpy as np\n",
    "import matplotlib.pyplot as plt\n",
    "import seaborn as sns"
   ]
  },
  {
   "cell_type": "markdown",
   "id": "a19f741a",
   "metadata": {},
   "source": [
    "## Base Model Level-Level"
   ]
  },
  {
   "cell_type": "code",
   "execution_count": 263,
   "id": "3a3054ad",
   "metadata": {},
   "outputs": [],
   "source": [
    "beef = pd.read_csv('https://raw.githubusercontent.com/susanli2016/Machine-Learning-with-Python/master/beef.csv')\n"
   ]
  },
  {
   "cell_type": "code",
   "execution_count": 264,
   "id": "83d9a1d6",
   "metadata": {},
   "outputs": [],
   "source": [
    "from __future__ import print_function\n",
    "from statsmodels.compat import lzip\n",
    "import statsmodels.api as sm\n",
    "from statsmodels.formula.api import ols"
   ]
  },
  {
   "cell_type": "code",
   "execution_count": 265,
   "id": "b3da1763",
   "metadata": {},
   "outputs": [
    {
     "name": "stdout",
     "output_type": "stream",
     "text": [
      "                            OLS Regression Results                            \n",
      "==============================================================================\n",
      "Dep. Variable:               Quantity   R-squared:                       0.901\n",
      "Model:                            OLS   Adj. R-squared:                  0.900\n",
      "Method:                 Least Squares   F-statistic:                     811.2\n",
      "Date:                Wed, 04 Oct 2023   Prob (F-statistic):           1.69e-46\n",
      "Time:                        08:34:56   Log-Likelihood:                -77.493\n",
      "No. Observations:                  91   AIC:                             159.0\n",
      "Df Residuals:                      89   BIC:                             164.0\n",
      "Df Model:                           1                                         \n",
      "Covariance Type:            nonrobust                                         \n",
      "==============================================================================\n",
      "                 coef    std err          t      P>|t|      [0.025      0.975]\n",
      "------------------------------------------------------------------------------\n",
      "Intercept     30.0515      0.413     72.701      0.000      29.230      30.873\n",
      "Price         -0.0465      0.002    -28.482      0.000      -0.050      -0.043\n",
      "==============================================================================\n",
      "Omnibus:                        3.453   Durbin-Watson:                   1.533\n",
      "Prob(Omnibus):                  0.178   Jarque-Bera (JB):                2.460\n",
      "Skew:                           0.237   Prob(JB):                        0.292\n",
      "Kurtosis:                       2.349   Cond. No.                     1.74e+03\n",
      "==============================================================================\n",
      "\n",
      "Notes:\n",
      "[1] Standard Errors assume that the covariance matrix of the errors is correctly specified.\n",
      "[2] The condition number is large, 1.74e+03. This might indicate that there are\n",
      "strong multicollinearity or other numerical problems.\n"
     ]
    }
   ],
   "source": [
    "beef_model = ols(\"Quantity ~ Price\", data=beef).fit()\n",
    "print(beef_model.summary())"
   ]
  },
  {
   "cell_type": "code",
   "execution_count": 266,
   "id": "4838a2b8",
   "metadata": {},
   "outputs": [
    {
     "data": {
      "text/plain": [
       "<AxesSubplot:xlabel='Price', ylabel='Quantity'>"
      ]
     },
     "execution_count": 266,
     "metadata": {},
     "output_type": "execute_result"
    },
    {
     "data": {
      "image/png": "[encoded data removed]",
      "text/plain": [
       "<Figure size 432x288 with 1 Axes>"
      ]
     },
     "metadata": {
      "needs_background": "light"
     },
     "output_type": "display_data"
    }
   ],
   "source": [
    "sns.regplot(x=beef['Price'], y=beef['Quantity'],ci=False)\n"
   ]
  },
  {
   "cell_type": "code",
   "execution_count": 267,
   "id": "5dcc675e",
   "metadata": {},
   "outputs": [],
   "source": [
    "beef['fitted'] = beef_model.fittedvalues\n",
    "beef['residuals'] = beef['Quantity'] - beef['fitted']"
   ]
  },
  {
   "cell_type": "code",
   "execution_count": 268,
   "id": "521954b2",
   "metadata": {},
   "outputs": [
    {
     "name": "stdout",
     "output_type": "stream",
     "text": [
      "       lb_stat     lb_pvalue\n",
      "1     4.169223  4.116467e-02\n",
      "2    15.715308  3.867803e-04\n",
      "3    18.071411  4.251821e-04\n",
      "4    57.309852  1.065174e-11\n",
      "5    57.312661  4.359503e-11\n",
      "6    76.632158  1.769822e-14\n",
      "7    77.667687  4.113841e-14\n",
      "8   107.607379  1.180515e-19\n",
      "9   107.731349  4.255840e-19\n",
      "10  126.926796  1.976413e-22\n"
     ]
    }
   ],
   "source": [
    "# Import packages\n",
    "from statsmodels.stats.diagnostic import acorr_ljungbox\n",
    "\n",
    "# Carry out Ljung-Box test\n",
    "print(acorr_ljungbox(beef['residuals'], return_df=True))"
   ]
  },
  {
   "cell_type": "code",
   "execution_count": 269,
   "id": "6b107b27",
   "metadata": {},
   "outputs": [
    {
     "data": {
      "text/plain": [
       "-1.8739588635431214e-15"
      ]
     },
     "execution_count": 269,
     "metadata": {},
     "output_type": "execute_result"
    }
   ],
   "source": [
    "beef['residuals'].mean()"
   ]
  },
  {
   "cell_type": "markdown",
   "id": "e30ba450",
   "metadata": {},
   "source": [
    "#### Ljung Box Test is not suitable for OLS"
   ]
  },
  {
   "cell_type": "code",
   "execution_count": 270,
   "id": "8789ad90",
   "metadata": {},
   "outputs": [
    {
     "data": {
      "text/plain": [
       "<matplotlib.collections.PathCollection at 0x7feaca0d7d90>"
      ]
     },
     "execution_count": 270,
     "metadata": {},
     "output_type": "execute_result"
    },
    {
     "data": {
      "image/png": "[encoded data removed]",
      "text/plain": [
       "<Figure size 432x288 with 1 Axes>"
      ]
     },
     "metadata": {
      "needs_background": "light"
     },
     "output_type": "display_data"
    }
   ],
   "source": [
    "plt.scatter(x='Price',y='residuals', data=beef)"
   ]
  },
  {
   "cell_type": "markdown",
   "id": "63ccbb79",
   "metadata": {},
   "source": [
    "### Calculate Price Elasticities"
   ]
  },
  {
   "cell_type": "code",
   "execution_count": 271,
   "id": "60bf5a2a",
   "metadata": {},
   "outputs": [
    {
     "name": "stderr",
     "output_type": "stream",
     "text": [
      "/var/folders/l0/nq5ggf593ms2yg8yn6z63h_r0000gn/T/ipykernel_9976/3086661295.py:3: FutureWarning: Series.__getitem__ treating keys as positions is deprecated. In a future version, integer keys will always be treated as labels (consistent with DataFrame behavior). To access a value by position, use `ser.iloc[pos]`\n",
      "  slope = beef_model.params[1]\n"
     ]
    },
    {
     "data": {
      "text/plain": [
       "-0.6329392811763698"
      ]
     },
     "execution_count": 271,
     "metadata": {},
     "output_type": "execute_result"
    }
   ],
   "source": [
    "mean_price = beef['Price'].mean()\n",
    "mean_quantity = beef['Quantity'].mean()\n",
    "slope = beef_model.params[1]\n",
    "p_elasticity = slope * (mean_price/mean_quantity)\n",
    "p_elasticity"
   ]
  },
  {
   "cell_type": "markdown",
   "id": "8bae9904",
   "metadata": {},
   "source": [
    "## Model Log-Log"
   ]
  },
  {
   "cell_type": "markdown",
   "id": "83060d21",
   "metadata": {},
   "source": [
    "In a log-log setting, the price elasticity of demand is the slope coefficient"
   ]
  },
  {
   "cell_type": "code",
   "execution_count": 272,
   "id": "aad908a1",
   "metadata": {},
   "outputs": [
    {
     "name": "stdout",
     "output_type": "stream",
     "text": [
      "                            OLS Regression Results                            \n",
      "==============================================================================\n",
      "Dep. Variable:           Log_Quantity   R-squared:                       0.852\n",
      "Model:                            OLS   Adj. R-squared:                  0.850\n",
      "Method:                 Least Squares   F-statistic:                     512.6\n",
      "Date:                Wed, 04 Oct 2023   Prob (F-statistic):           1.07e-38\n",
      "Time:                        08:35:00   Log-Likelihood:                 171.64\n",
      "No. Observations:                  91   AIC:                            -339.3\n",
      "Df Residuals:                      89   BIC:                            -334.3\n",
      "Df Model:                           1                                         \n",
      "Covariance Type:            nonrobust                                         \n",
      "==============================================================================\n",
      "                 coef    std err          t      P>|t|      [0.025      0.975]\n",
      "------------------------------------------------------------------------------\n",
      "Intercept      5.8364      0.129     45.101      0.000       5.579       6.094\n",
      "Log_Price     -0.5314      0.023    -22.640      0.000      -0.578      -0.485\n",
      "==============================================================================\n",
      "Omnibus:                        3.108   Durbin-Watson:                   1.107\n",
      "Prob(Omnibus):                  0.211   Jarque-Bera (JB):                1.831\n",
      "Skew:                           0.026   Prob(JB):                        0.400\n",
      "Kurtosis:                       2.307   Cond. No.                         189.\n",
      "==============================================================================\n",
      "\n",
      "Notes:\n",
      "[1] Standard Errors assume that the covariance matrix of the errors is correctly specified.\n"
     ]
    }
   ],
   "source": [
    "beef = pd.read_csv('https://raw.githubusercontent.com/susanli2016/Machine-Learning-with-Python/master/beef.csv')\n",
    "beef['Log_Price'] = np.log(beef['Price'])\n",
    "beef['Log_Quantity'] = np.log(beef['Quantity'])\n",
    "\n",
    "beef_model = ols(\"Log_Quantity ~ Log_Price\", data=beef).fit()\n",
    "print(beef_model.summary())"
   ]
  },
  {
   "cell_type": "code",
   "execution_count": 276,
   "id": "ca37ae4e",
   "metadata": {},
   "outputs": [
    {
     "data": {
      "text/html": [
       "<div>\n",
       "<style scoped>\n",
       "    .dataframe tbody tr th:only-of-type {\n",
       "        vertical-align: middle;\n",
       "    }\n",
       "\n",
       "    .dataframe tbody tr th {\n",
       "        vertical-align: top;\n",
       "    }\n",
       "\n",
       "    .dataframe thead th {\n",
       "        text-align: right;\n",
       "    }\n",
       "</style>\n",
       "<table border=\"1\" class=\"dataframe\">\n",
       "  <thead>\n",
       "    <tr style=\"text-align: right;\">\n",
       "      <th></th>\n",
       "      <th>Year</th>\n",
       "      <th>Quarter</th>\n",
       "      <th>Quantity</th>\n",
       "      <th>Price</th>\n",
       "      <th>Log_Price</th>\n",
       "      <th>Log_Quantity</th>\n",
       "      <th>fitted_log</th>\n",
       "      <th>residuals_log</th>\n",
       "    </tr>\n",
       "  </thead>\n",
       "  <tbody>\n",
       "    <tr>\n",
       "      <th>0</th>\n",
       "      <td>1977</td>\n",
       "      <td>1</td>\n",
       "      <td>22.9976</td>\n",
       "      <td>142.1667</td>\n",
       "      <td>4.957000</td>\n",
       "      <td>3.135390</td>\n",
       "      <td>3.202103</td>\n",
       "      <td>-0.066714</td>\n",
       "    </tr>\n",
       "    <tr>\n",
       "      <th>1</th>\n",
       "      <td>1977</td>\n",
       "      <td>2</td>\n",
       "      <td>22.6131</td>\n",
       "      <td>143.9333</td>\n",
       "      <td>4.969350</td>\n",
       "      <td>3.118529</td>\n",
       "      <td>3.195541</td>\n",
       "      <td>-0.077011</td>\n",
       "    </tr>\n",
       "    <tr>\n",
       "      <th>2</th>\n",
       "      <td>1977</td>\n",
       "      <td>3</td>\n",
       "      <td>23.4054</td>\n",
       "      <td>146.5000</td>\n",
       "      <td>4.987025</td>\n",
       "      <td>3.152967</td>\n",
       "      <td>3.186147</td>\n",
       "      <td>-0.033181</td>\n",
       "    </tr>\n",
       "    <tr>\n",
       "      <th>3</th>\n",
       "      <td>1977</td>\n",
       "      <td>4</td>\n",
       "      <td>22.7401</td>\n",
       "      <td>150.8000</td>\n",
       "      <td>5.015954</td>\n",
       "      <td>3.124130</td>\n",
       "      <td>3.170774</td>\n",
       "      <td>-0.046644</td>\n",
       "    </tr>\n",
       "    <tr>\n",
       "      <th>4</th>\n",
       "      <td>1978</td>\n",
       "      <td>1</td>\n",
       "      <td>22.0441</td>\n",
       "      <td>160.0000</td>\n",
       "      <td>5.075174</td>\n",
       "      <td>3.093045</td>\n",
       "      <td>3.139303</td>\n",
       "      <td>-0.046258</td>\n",
       "    </tr>\n",
       "  </tbody>\n",
       "</table>\n",
       "</div>"
      ],
      "text/plain": [
       "   Year  Quarter  Quantity     Price  Log_Price  Log_Quantity  fitted_log  \\\n",
       "0  1977        1   22.9976  142.1667   4.957000      3.135390    3.202103   \n",
       "1  1977        2   22.6131  143.9333   4.969350      3.118529    3.195541   \n",
       "2  1977        3   23.4054  146.5000   4.987025      3.152967    3.186147   \n",
       "3  1977        4   22.7401  150.8000   5.015954      3.124130    3.170774   \n",
       "4  1978        1   22.0441  160.0000   5.075174      3.093045    3.139303   \n",
       "\n",
       "   residuals_log  \n",
       "0      -0.066714  \n",
       "1      -0.077011  \n",
       "2      -0.033181  \n",
       "3      -0.046644  \n",
       "4      -0.046258  "
      ]
     },
     "execution_count": 276,
     "metadata": {},
     "output_type": "execute_result"
    }
   ],
   "source": [
    "beef['fitted_log'] = beef_model.fittedvalues\n",
    "beef['residuals_log'] = beef['Log_Quantity'] - beef['fitted_log']\n",
    "beef.head()"
   ]
  },
  {
   "cell_type": "markdown",
   "id": "25f47bca",
   "metadata": {},
   "source": [
    "#### The demand of the product is inelastic, since it lies between [-1,1]\n",
    "#### Negative price elasticity indicates that increasing prices lead to decreasing demand"
   ]
  },
  {
   "cell_type": "code",
   "execution_count": 277,
   "id": "317c1c14",
   "metadata": {},
   "outputs": [
    {
     "data": {
      "text/plain": [
       "-6.97854472621527e-16"
      ]
     },
     "execution_count": 277,
     "metadata": {},
     "output_type": "execute_result"
    }
   ],
   "source": [
    "beef['residuals_log'].mean()"
   ]
  },
  {
   "cell_type": "code",
   "execution_count": 280,
   "id": "8ccd4b48",
   "metadata": {},
   "outputs": [
    {
     "data": {
      "text/plain": [
       "1.1073450088969268"
      ]
     },
     "execution_count": 280,
     "metadata": {},
     "output_type": "execute_result"
    }
   ],
   "source": [
    "import statsmodels\n",
    "from statsmodels.stats.stattools import durbin_watson\n",
    "\n",
    "statsmodels.stats.stattools.durbin_watson(beef['residuals_log'], axis=0)"
   ]
  },
  {
   "cell_type": "markdown",
   "id": "193c2601",
   "metadata": {},
   "source": [
    "#### We have 91 observations and 2 regressors --> critical value: d_lower = 1.6, d_upper = 1.7\n",
    "DW < d_L --> positive autocorrelation detected\n",
    "\n",
    "### Use Generalized Least Squares"
   ]
  },
  {
   "cell_type": "code",
   "execution_count": 284,
   "id": "b4fcca5b",
   "metadata": {},
   "outputs": [
    {
     "name": "stdout",
     "output_type": "stream",
     "text": [
      "                                 GLS Regression Results                                \n",
      "=======================================================================================\n",
      "Dep. Variable:           Log_Quantity   R-squared (uncentered):                   0.996\n",
      "Model:                            GLS   Adj. R-squared (uncentered):              0.996\n",
      "Method:                 Least Squares   F-statistic:                          2.363e+04\n",
      "Date:                Wed, 04 Oct 2023   Prob (F-statistic):                   9.69e-111\n",
      "Time:                        08:49:20   Log-Likelihood:                          27.318\n",
      "No. Observations:                  91   AIC:                                     -52.64\n",
      "Df Residuals:                      90   BIC:                                     -50.13\n",
      "Df Model:                           1                                                  \n",
      "Covariance Type:            nonrobust                                                  \n",
      "==============================================================================\n",
      "                 coef    std err          t      P>|t|      [0.025      0.975]\n",
      "------------------------------------------------------------------------------\n",
      "Log_Price      0.5267      0.003    153.716      0.000       0.520       0.534\n",
      "==============================================================================\n",
      "Omnibus:                       16.643   Durbin-Watson:                   0.065\n",
      "Prob(Omnibus):                  0.000   Jarque-Bera (JB):               19.112\n",
      "Skew:                           1.039   Prob(JB):                     7.08e-05\n",
      "Kurtosis:                       3.851   Cond. No.                         1.00\n",
      "==============================================================================\n",
      "\n",
      "Notes:\n",
      "[1] R² is computed without centering (uncentered) since the model does not contain a constant.\n",
      "[2] Standard Errors assume that the covariance matrix of the errors is correctly specified.\n"
     ]
    }
   ],
   "source": [
    "gls_model = sm.GLS(endog=beef['Log_Quantity'], exog=beef['Log_Price'])\n",
    "res = gls_model.fit()\n",
    "print(res.summary())"
   ]
  },
  {
   "cell_type": "markdown",
   "id": "ee915914",
   "metadata": {},
   "source": [
    "### Improved R2, and Model significance much higher: F-statistic"
   ]
  },
  {
   "cell_type": "markdown",
   "id": "a1e64b9a",
   "metadata": {},
   "source": [
    "## Impact of year dummies"
   ]
  },
  {
   "cell_type": "code",
   "execution_count": 257,
   "id": "a2f1754d",
   "metadata": {},
   "outputs": [],
   "source": [
    "beef = pd.read_csv('https://raw.githubusercontent.com/susanli2016/Machine-Learning-with-Python/master/beef.csv')\n",
    "beef = pd.get_dummies(beef, columns=['Year'], drop_first=True, dtype=int)\n",
    "\n",
    "X = beef.loc[:,'Price':]\n",
    "X = sm.add_constant(X)\n",
    "y = beef.Quantity"
   ]
  },
  {
   "cell_type": "code",
   "execution_count": 258,
   "id": "4f855efe",
   "metadata": {},
   "outputs": [],
   "source": [
    "beef_model = sm.OLS(y, X).fit()"
   ]
  },
  {
   "cell_type": "code",
   "execution_count": 260,
   "id": "fc8edf97",
   "metadata": {},
   "outputs": [
    {
     "name": "stdout",
     "output_type": "stream",
     "text": [
      "                            OLS Regression Results                            \n",
      "==============================================================================\n",
      "Dep. Variable:               Quantity   R-squared:                       0.932\n",
      "Model:                            OLS   Adj. R-squared:                  0.909\n",
      "Method:                 Least Squares   F-statistic:                     40.04\n",
      "Date:                Wed, 04 Oct 2023   Prob (F-statistic):           1.54e-30\n",
      "Time:                        07:53:39   Log-Likelihood:                -60.347\n",
      "No. Observations:                  91   AIC:                             168.7\n",
      "Df Residuals:                      67   BIC:                             229.0\n",
      "Df Model:                          23                                         \n",
      "Covariance Type:            nonrobust                                         \n",
      "==============================================================================\n",
      "                 coef    std err          t      P>|t|      [0.025      0.975]\n",
      "------------------------------------------------------------------------------\n",
      "const         25.2648      1.803     14.012      0.000      21.666      28.864\n",
      "Price         -0.0159      0.012     -1.305      0.196      -0.040       0.008\n",
      "Year_1978     -0.5907      0.558     -1.058      0.294      -1.705       0.524\n",
      "Year_1979     -2.1943      1.013     -2.167      0.034      -4.216      -0.173\n",
      "Year_1980     -2.4008      1.140     -2.106      0.039      -4.676      -0.126\n",
      "Year_1981     -2.2085      1.152     -1.917      0.060      -4.508       0.091\n",
      "Year_1982     -2.2068      1.195     -1.847      0.069      -4.592       0.178\n",
      "Year_1983     -1.8681      1.146     -1.631      0.108      -4.155       0.418\n",
      "Year_1984     -1.9031      1.162     -1.638      0.106      -4.222       0.415\n",
      "Year_1985     -1.8190      1.083     -1.680      0.098      -3.981       0.343\n",
      "Year_1986     -1.9400      1.062     -1.827      0.072      -4.060       0.180\n",
      "Year_1987     -2.9993      1.195     -2.510      0.015      -5.385      -0.614\n",
      "Year_1988     -3.1105      1.334     -2.331      0.023      -5.774      -0.447\n",
      "Year_1989     -3.6949      1.514     -2.440      0.017      -6.717      -0.672\n",
      "Year_1990     -3.8386      1.696     -2.263      0.027      -7.225      -0.453\n",
      "Year_1991     -3.9678      1.784     -2.225      0.029      -7.528      -0.408\n",
      "Year_1992     -4.1051      1.739     -2.360      0.021      -7.577      -0.634\n",
      "Year_1993     -4.3126      1.845     -2.338      0.022      -7.994      -0.631\n",
      "Year_1994     -4.0075      1.719     -2.332      0.023      -7.438      -0.577\n",
      "Year_1995     -3.8823      1.736     -2.236      0.029      -7.347      -0.417\n",
      "Year_1996     -3.7483      1.687     -2.222      0.030      -7.116      -0.381\n",
      "Year_1997     -4.0878      1.679     -2.435      0.018      -7.439      -0.737\n",
      "Year_1998     -3.8351      1.650     -2.324      0.023      -7.129      -0.542\n",
      "Year_1999     -3.3658      1.739     -1.935      0.057      -6.837       0.106\n",
      "==============================================================================\n",
      "Omnibus:                       13.491   Durbin-Watson:                   2.172\n",
      "Prob(Omnibus):                  0.001   Jarque-Bera (JB):                4.721\n",
      "Skew:                           0.244   Prob(JB):                       0.0944\n",
      "Kurtosis:                       1.996   Cond. No.                     3.02e+04\n",
      "==============================================================================\n",
      "\n",
      "Notes:\n",
      "[1] Standard Errors assume that the covariance matrix of the errors is correctly specified.\n",
      "[2] The condition number is large, 3.02e+04. This might indicate that there are\n",
      "strong multicollinearity or other numerical problems.\n"
     ]
    }
   ],
   "source": [
    "print(beef_model.summary())"
   ]
  },
  {
   "cell_type": "code",
   "execution_count": null,
   "id": "cf253be9",
   "metadata": {},
   "outputs": [],
   "source": []
  }
 ],
 "metadata": {
  "kernelspec": {
   "display_name": "Python 3 (ipykernel)",
   "language": "python",
   "name": "python3"
  },
  "language_info": {
   "codemirror_mode": {
    "name": "ipython",
    "version": 3
   },
   "file_extension": ".py",
   "mimetype": "text/x-python",
   "name": "python",
   "nbconvert_exporter": "python",
   "pygments_lexer": "ipython3",
   "version": "3.9.7"
  }
 },
 "nbformat": 4,
 "nbformat_minor": 5
}
